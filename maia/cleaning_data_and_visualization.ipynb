{
 "cells": [
  {
   "cell_type": "code",
   "execution_count": null,
   "metadata": {},
   "outputs": [],
   "source": [
    "import pandas as pd\n",
    "import numpy as np\n",
    "import matplotlib.pyplot as plt\n",
    "import seaborn as sns\n",
    "%matplotlib inline\n",
    "\n",
    "\n",
    "df = pd.read_csv('../data/diabetic_readmission_data.csv')\n",
    "df.head(10)"
   ]
  },
  {
   "cell_type": "code",
   "execution_count": null,
   "metadata": {},
   "outputs": [],
   "source": [
    "# There are 101,766 rows and 50 columns\n",
    "print(df.shape)"
   ]
  },
  {
   "cell_type": "code",
   "execution_count": null,
   "metadata": {},
   "outputs": [],
   "source": [
    "# Examine data, there are some hidden columns\n",
    "# show all columns\n",
    "df.columns"
   ]
  },
  {
   "cell_type": "code",
   "execution_count": null,
   "metadata": {
    "scrolled": true
   },
   "outputs": [],
   "source": [
    "# Because there are many of hidden columns & hidden rows,\n",
    "#in order to have an overview of dataframe, try to see through all of them\n",
    "#there are a lot missing value columns & cells\n",
    "#pd.set_option('display.max_columns', None)\n",
    "#pd.set_option('display.max_rows', None)\n",
    "df.head(15).T"
   ]
  },
  {
   "cell_type": "code",
   "execution_count": null,
   "metadata": {},
   "outputs": [],
   "source": [
    "print(df.info())"
   ]
  },
  {
   "cell_type": "code",
   "execution_count": null,
   "metadata": {},
   "outputs": [],
   "source": [
    "# examine the common stats of numeric columns\n",
    "print(df.describe())"
   ]
  },
  {
   "cell_type": "code",
   "execution_count": null,
   "metadata": {},
   "outputs": [],
   "source": [
    "# examine the bool & object with describe\n",
    "df.describe(include=['object', 'bool'])"
   ]
  },
  {
   "cell_type": "code",
   "execution_count": null,
   "metadata": {},
   "outputs": [],
   "source": [
    "# loop through the data of each column, find the column has value of cell which is object =='?' then count\n",
    "\n",
    "for col in df.columns:\n",
    "    if df[col].dtype == object:\n",
    "         print(col, df[col][df[col] == '?'].count())\n",
    "\n",
    "# There are 101,766 rows and 50 columns\n",
    "print(df.shape)"
   ]
  },
  {
   "cell_type": "code",
   "execution_count": null,
   "metadata": {},
   "outputs": [],
   "source": [
    "# Because 'readmitted' is a very important feature to look through therefore need to check to see all possible value of data in column\n",
    "df['readmitted'].unique()"
   ]
  },
  {
   "cell_type": "code",
   "execution_count": null,
   "metadata": {},
   "outputs": [],
   "source": [
    "# Because gender is a important feature to look through therefore need to check to see all possible value of data in column\n",
    "df['gender'].unique()"
   ]
  },
  {
   "cell_type": "code",
   "execution_count": null,
   "metadata": {},
   "outputs": [],
   "source": [
    "# to count how many missing data cell in gender column\n",
    "print('gender', df['gender'][df['gender'] == 'Unknown/Invalid'].count())"
   ]
  },
  {
   "cell_type": "code",
   "execution_count": null,
   "metadata": {},
   "outputs": [],
   "source": [
    "# Because weight, payer_code, medical_specialty missing value are 96%, 40% & 49% accordingly.\n",
    "# Besides, I don't see they are really useful for analysis this secenario, dicided to delete them.\n",
    "df.drop(['weight', 'payer_code', 'medical_specialty'], axis=1, inplace = True)\n",
    "df"
   ]
  },
  {
   "cell_type": "code",
   "execution_count": null,
   "metadata": {},
   "outputs": [],
   "source": [
    "# There is no duplicated value in column patient_nbr\n",
    "df[df.duplicated(keep=False)].sort_values(by='patient_nbr')"
   ]
  },
  {
   "cell_type": "code",
   "execution_count": null,
   "metadata": {},
   "outputs": [],
   "source": [
    "##### Because 'readmitted' is a very important feature to look through therefore need to check to see all possible value of data in column\n",
    "reamitted_values = df['readmitted'].unique()\n",
    "print(reamitted_values)"
   ]
  },
  {
   "cell_type": "code",
   "execution_count": null,
   "metadata": {},
   "outputs": [],
   "source": [
    "# examine the bool & object with describe\n",
    "df.describe(include=['object', 'bool'])"
   ]
  },
  {
   "cell_type": "code",
   "execution_count": null,
   "metadata": {},
   "outputs": [],
   "source": [
    "#Recheck\n",
    "df['repaglinide'].unique()"
   ]
  },
  {
   "cell_type": "code",
   "execution_count": null,
   "metadata": {},
   "outputs": [],
   "source": [
    "df['citoglipton'].unique()"
   ]
  },
  {
   "cell_type": "code",
   "execution_count": null,
   "metadata": {},
   "outputs": [],
   "source": [
    "df['examide'].unique()"
   ]
  },
  {
   "cell_type": "code",
   "execution_count": null,
   "metadata": {},
   "outputs": [],
   "source": [
    "df['max_glu_serum'].unique()"
   ]
  },
  {
   "cell_type": "code",
   "execution_count": null,
   "metadata": {},
   "outputs": [],
   "source": [
    "df['A1Cresult'].unique()"
   ]
  },
  {
   "cell_type": "code",
   "execution_count": null,
   "metadata": {},
   "outputs": [],
   "source": [
    "#since those columns' values are all 'No', we can drop them\n",
    "df = df.drop(['citoglipton', 'examide'], axis = 1, inplace = True)"
   ]
  },
  {
   "cell_type": "code",
   "execution_count": null,
   "metadata": {},
   "outputs": [],
   "source": [
    "#add new feature age_under\n",
    "#replace all instances of grouped age with the last value in the group.\n",
    "df['age'].replace(to_replace = '[0-10)', value = 10, inplace=True)\n",
    "df['age'].replace(to_replace = '[10-20)', value = 20, inplace=True)\n",
    "df['age'].replace(to_replace = '[20-30)', value = 30, inplace=True)\n",
    "df['age'].replace(to_replace = '[30-40)', value = 40, inplace=True)\n",
    "df['age'].replace(to_replace = '[40-50)', value = 50, inplace=True)\n",
    "df['age'].replace(to_replace = '[50-60)', value = 60, inplace=True)\n",
    "df['age'].replace(to_replace = '[60-70)', value = 70, inplace=True)\n",
    "df['age'].replace(to_replace = '[70-80)', value = 80, inplace=True)\n",
    "df['age'].replace(to_replace = '[80-90)', value = 90, inplace=True)\n",
    "df['age'].replace(to_replace = '[90-100)', value = 100, inplace=True)\n"
   ]
  },
  {
   "cell_type": "code",
   "execution_count": null,
   "metadata": {},
   "outputs": [],
   "source": [
    "df.head(15)"
   ]
  },
  {
   "cell_type": "code",
   "execution_count": null,
   "metadata": {},
   "outputs": [],
   "source": [
    "df.groupby(['time_in_hospital','readmitted'])['readmitted']\n",
    "df"
   ]
  },
  {
   "cell_type": "code",
   "execution_count": null,
   "metadata": {},
   "outputs": [],
   "source": [
    "df.groupby(['time_in_hospital','readmitted'])['readmitted'].count().plot(kind='barh',figsize = (20,10))"
   ]
  },
  {
   "cell_type": "code",
   "execution_count": null,
   "metadata": {},
   "outputs": [],
   "source": [
    "indexes_to_drop1 = list(df[df[\"race\"] == \"?\"].index)\n",
    "indexes_to_drop2 = list(df[df[\"diag_1\"] == '?'].index)\n",
    "indexes_to_drop3 = list(df[df[\"diag_2\"] == '?'].index)\n",
    "indexes_to_drop4 = list(df[df[\"diag_3\"] == '?'].index)"
   ]
  },
  {
   "cell_type": "code",
   "execution_count": null,
   "metadata": {},
   "outputs": [],
   "source": [
    "indexes_to_drop = []\n",
    "indexes_to_drop.extend(indexes_to_drop1)\n",
    "indexes_to_drop.extend(indexes_to_drop2)\n",
    "indexes_to_drop.extend(indexes_to_drop3)\n",
    "indexes_to_drop.extend(indexes_to_drop4)\n",
    "indexes_to_drop = set(indexes_to_drop)"
   ]
  },
  {
   "cell_type": "code",
   "execution_count": null,
   "metadata": {},
   "outputs": [],
   "source": [
    "df.drop(index = indexes_to_drop, inplace = True)"
   ]
  },
  {
   "cell_type": "code",
   "execution_count": null,
   "metadata": {},
   "outputs": [],
   "source": [
    "df['diag_1'].head(15)"
   ]
  },
  {
   "cell_type": "code",
   "execution_count": null,
   "metadata": {},
   "outputs": [],
   "source": [
    "df['diag_2'].head(15)"
   ]
  },
  {
   "cell_type": "code",
   "execution_count": null,
   "metadata": {},
   "outputs": [],
   "source": [
    "df['diag_3'].head(15)"
   ]
  },
  {
   "cell_type": "code",
   "execution_count": null,
   "metadata": {},
   "outputs": [],
   "source": [
    "#Feature Engineering\n",
    "#create a column to group <30 and >30 into True and 'NO' to False.\n",
    "df['readmit'] = df['readmitted'].map({'NO': False, '>30': True, '<30': True})\n",
    "df"
   ]
  },
  {
   "cell_type": "code",
   "execution_count": null,
   "metadata": {},
   "outputs": [],
   "source": [
    "df.groupby(['time_in_hospital', 'readmitted'])['patient_nbr', 'encounter_id'].count()"
   ]
  },
  {
   "cell_type": "code",
   "execution_count": null,
   "metadata": {},
   "outputs": [],
   "source": [
    "df.groupby(['time_in_hospital', 'gender'])['patient_nbr'].count()"
   ]
  },
  {
   "cell_type": "code",
   "execution_count": null,
   "metadata": {},
   "outputs": [],
   "source": [
    "print(df.describe())"
   ]
  },
  {
   "cell_type": "code",
   "execution_count": null,
   "metadata": {},
   "outputs": [],
   "source": [
    "# visualize readmitted count by gender\n",
    "df.groupby(['time_in_hospital', 'gender'])['patient_nbr'].count()\n",
    "x = list(df['time_in_hospital'].unique())\n",
    "y_male = list(df.loc[:][df['gender'] == 'Male'].groupby(['time_in_hospital', 'gender'])['patient_nbr'].count())\n",
    "y_female = list(df.loc[:][df['gender'] == 'Female'].groupby(['time_in_hospital', 'gender'])['patient_nbr'].count())\n",
    "\n",
    "print(x)\n",
    "print(y_male)\n",
    "print(y_female)\n",
    "\n",
    "# Use plot() function to create a plot using above values on both x and y coordinates. Add a label.\n",
    "width = 0.25 #try to show separately as many column as possible\n",
    "#plt.bar(x, y_male, label='Male')\n",
    "plt.bar(x, y_male, width, color='orange', label='Male') \n",
    "plt.bar([i + width for i in x], y_female, width, color='green', label='Female') \n",
    "\n",
    "# Add labels for x and y axes\n",
    "plt.xlabel('Time in Hospital (days)')\n",
    "plt.ylabel('Total Count')\n",
    "\n",
    "# Add a title for the plot\n",
    "plt.title(' Number of Readmitted by Gender')\n",
    "\n",
    "# Add a legend to the plot with legend() in lower right corner\n",
    "plt.legend()\n",
    "\n",
    "#Resize the figure to allow for better visualizaton \n",
    "plt.figure(figsize=(60,30))\n",
    "# Output the final plot\n",
    "plt.show()"
   ]
  },
  {
   "cell_type": "code",
   "execution_count": null,
   "metadata": {},
   "outputs": [],
   "source": [
    "# visualize readmitted count by gender\n",
    "df.groupby(['age', 'readmitted'])['patient_nbr'].count()\n",
    "x = list(df['age'].unique())\n",
    "y_1 = df.loc[:][df['readmitted'] == '<30'].groupby(['age', 'readmitted'])['patient_nbr'].count()\n",
    "y_2 = df.loc[:][df['readmitted'] == '>30'].groupby(['age', 'readmitted'])['patient_nbr'].count()\n",
    "y_3 = df.loc[:][df['readmitted'] == 'NO'].groupby(['age', 'readmitted'])['patient_nbr'].count()\n",
    "\n",
    "print(x)\n",
    "print(y_1)\n",
    "print(y_2)\n",
    "\n",
    "# Use plot() function to create a plot using above values on both x and y coordinates. Add a label.\n",
    "width = 2.5 #try to show separately as many column as possible\n",
    "plt.bar(x, y_1, width, color='red', label='<30') \n",
    "plt.bar([i + width for i in x], y_2, width, color='green', label='>30') \n",
    "plt.bar([i + width*2 for i in x], y_3, width, color='orange', label='NO') \n",
    "\n",
    "# Add labels for x and y axes\n",
    "plt.xlabel('Time in Hospital (days)')\n",
    "plt.ylabel('Total count')\n",
    "\n",
    "# Add a title for the plot\n",
    "plt.title('Readmitted Times by Age')\n",
    "\n",
    "# Add a legend to the plot with legend() in lower right corner\n",
    "plt.legend()\n",
    "\n",
    "# Output the final plot\n",
    "plt.show()"
   ]
  },
  {
   "cell_type": "code",
   "execution_count": 1,
   "metadata": {},
   "outputs": [
    {
     "ename": "NameError",
     "evalue": "name 'df' is not defined",
     "output_type": "error",
     "traceback": [
      "\u001b[0;31m---------------------------------------------------------------------------\u001b[0m",
      "\u001b[0;31mNameError\u001b[0m                                 Traceback (most recent call last)",
      "\u001b[0;32m<ipython-input-1-b4ee2591f22d>\u001b[0m in \u001b[0;36m<module>\u001b[0;34m\u001b[0m\n\u001b[0;32m----> 1\u001b[0;31m \u001b[0mvar\u001b[0m \u001b[0;34m=\u001b[0m \u001b[0mdf\u001b[0m\u001b[0;34m[\u001b[0m\u001b[0;34m'diag_1'\u001b[0m\u001b[0;34m]\u001b[0m\u001b[0;34m.\u001b[0m\u001b[0mvalue_counts\u001b[0m\u001b[0;34m(\u001b[0m\u001b[0;34m)\u001b[0m\u001b[0;34m\u001b[0m\u001b[0;34m\u001b[0m\u001b[0m\n\u001b[0m\u001b[1;32m      2\u001b[0m \u001b[0mvar\u001b[0m\u001b[0;34m[\u001b[0m\u001b[0;36m0\u001b[0m\u001b[0;34m:\u001b[0m\u001b[0;36m20\u001b[0m\u001b[0;34m]\u001b[0m\u001b[0;34m.\u001b[0m\u001b[0mplot\u001b[0m\u001b[0;34m(\u001b[0m\u001b[0mkind\u001b[0m\u001b[0;34m=\u001b[0m\u001b[0;34m'barh'\u001b[0m\u001b[0;34m,\u001b[0m\u001b[0mfigsize\u001b[0m \u001b[0;34m=\u001b[0m \u001b[0;34m(\u001b[0m\u001b[0;36m20\u001b[0m\u001b[0;34m,\u001b[0m\u001b[0;36m10\u001b[0m\u001b[0;34m)\u001b[0m\u001b[0;34m)\u001b[0m\u001b[0;34m\u001b[0m\u001b[0;34m\u001b[0m\u001b[0m\n\u001b[1;32m      3\u001b[0m \u001b[0mplt\u001b[0m\u001b[0;34m.\u001b[0m\u001b[0mylabel\u001b[0m \u001b[0;34m=\u001b[0m \u001b[0;34m'Diagnosis ID'\u001b[0m\u001b[0;34m\u001b[0m\u001b[0;34m\u001b[0m\u001b[0m\n\u001b[1;32m      4\u001b[0m \u001b[0mplt\u001b[0m\u001b[0;34m.\u001b[0m\u001b[0mxlabel\u001b[0m\u001b[0;34m=\u001b[0m \u001b[0;34m'Rate'\u001b[0m\u001b[0;34m\u001b[0m\u001b[0;34m\u001b[0m\u001b[0m\n\u001b[1;32m      5\u001b[0m \u001b[0mplt\u001b[0m\u001b[0;34m.\u001b[0m\u001b[0mshow\u001b[0m\u001b[0;34m(\u001b[0m\u001b[0;34m)\u001b[0m\u001b[0;34m\u001b[0m\u001b[0;34m\u001b[0m\u001b[0m\n",
      "\u001b[0;31mNameError\u001b[0m: name 'df' is not defined"
     ]
    }
   ],
   "source": [
    "var = df['diag_1'].value_counts()\n",
    "var[0:20].plot(kind='barh',figsize = (20,10))\n",
    "plt.ylabel = 'Diagnosis ID'\n",
    "plt.xlabel= 'Rate'\n",
    "plt.show()\n",
    "#plot(kind='barh',figsize=(20,10))"
   ]
  },
  {
   "cell_type": "code",
   "execution_count": null,
   "metadata": {},
   "outputs": [],
   "source": []
  }
 ],
 "metadata": {
  "kernelspec": {
   "display_name": "Python 3",
   "language": "python",
   "name": "python3"
  },
  "language_info": {
   "codemirror_mode": {
    "name": "ipython",
    "version": 3
   },
   "file_extension": ".py",
   "mimetype": "text/x-python",
   "name": "python",
   "nbconvert_exporter": "python",
   "pygments_lexer": "ipython3",
   "version": "3.7.3"
  }
 },
 "nbformat": 4,
 "nbformat_minor": 2
}
